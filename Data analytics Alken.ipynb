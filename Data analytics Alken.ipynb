{
 "cells": [
  {
   "cell_type": "markdown",
   "id": "8f4f5e6a-78f6-477a-a571-d59c10f2e541",
   "metadata": {},
   "source": [
    "Text"
   ]
  },
  {
   "cell_type": "code",
   "execution_count": 77,
   "id": "92ea170a-e5e7-4e35-abd9-dd9c085cde63",
   "metadata": {},
   "outputs": [],
   "source": [
    "import pandas as pd\n",
    "from pandas import Series,DataFrame\n",
    "import numpy as np\n",
    "import matplotlib.pyplot as plt\n",
    "from matplotlib.pyplot import figure\n",
    "import matplotlib.dates as mdates\n",
    "import seaborn as sns\n",
    "import datetime as dt\n",
    "from datetime import datetime\n",
    "from datetime import timezone\n",
    "import pandas_profiling\n",
    "import pyodbc\n",
    "import warnings\n",
    "%matplotlib inline"
   ]
  },
  {
   "cell_type": "markdown",
   "id": "b332cb31-679c-4672-9422-2f3ed569112c",
   "metadata": {},
   "source": [
    "# Get power consumption data from database"
   ]
  },
  {
   "cell_type": "code",
   "execution_count": 78,
   "id": "8ae26f92-5d5c-480c-93ba-9b15e070c287",
   "metadata": {},
   "outputs": [
    {
     "data": {
      "text/html": [
       "<div>\n",
       "<style scoped>\n",
       "    .dataframe tbody tr th:only-of-type {\n",
       "        vertical-align: middle;\n",
       "    }\n",
       "\n",
       "    .dataframe tbody tr th {\n",
       "        vertical-align: top;\n",
       "    }\n",
       "\n",
       "    .dataframe thead th {\n",
       "        text-align: right;\n",
       "    }\n",
       "</style>\n",
       "<table border=\"1\" class=\"dataframe\">\n",
       "  <thead>\n",
       "    <tr style=\"text-align: right;\">\n",
       "      <th></th>\n",
       "      <th>Afname (kWh)</th>\n",
       "    </tr>\n",
       "    <tr>\n",
       "      <th>Datetime</th>\n",
       "      <th></th>\n",
       "    </tr>\n",
       "  </thead>\n",
       "  <tbody>\n",
       "    <tr>\n",
       "      <th>2022-01-01 00:00:00</th>\n",
       "      <td>1.187</td>\n",
       "    </tr>\n",
       "    <tr>\n",
       "      <th>2022-01-01 00:15:00</th>\n",
       "      <td>0.975</td>\n",
       "    </tr>\n",
       "    <tr>\n",
       "      <th>2022-01-01 00:30:00</th>\n",
       "      <td>0.964</td>\n",
       "    </tr>\n",
       "    <tr>\n",
       "      <th>2022-01-01 00:45:00</th>\n",
       "      <td>1.355</td>\n",
       "    </tr>\n",
       "    <tr>\n",
       "      <th>2022-01-01 01:00:00</th>\n",
       "      <td>1.087</td>\n",
       "    </tr>\n",
       "    <tr>\n",
       "      <th>...</th>\n",
       "      <td>...</td>\n",
       "    </tr>\n",
       "    <tr>\n",
       "      <th>2022-06-30 22:45:00</th>\n",
       "      <td>0.109</td>\n",
       "    </tr>\n",
       "    <tr>\n",
       "      <th>2022-06-30 23:00:00</th>\n",
       "      <td>0.134</td>\n",
       "    </tr>\n",
       "    <tr>\n",
       "      <th>2022-06-30 23:15:00</th>\n",
       "      <td>0.120</td>\n",
       "    </tr>\n",
       "    <tr>\n",
       "      <th>2022-06-30 23:30:00</th>\n",
       "      <td>0.112</td>\n",
       "    </tr>\n",
       "    <tr>\n",
       "      <th>2022-06-30 23:45:00</th>\n",
       "      <td>0.140</td>\n",
       "    </tr>\n",
       "  </tbody>\n",
       "</table>\n",
       "<p>17372 rows × 1 columns</p>\n",
       "</div>"
      ],
      "text/plain": [
       "                     Afname (kWh)\n",
       "Datetime                         \n",
       "2022-01-01 00:00:00         1.187\n",
       "2022-01-01 00:15:00         0.975\n",
       "2022-01-01 00:30:00         0.964\n",
       "2022-01-01 00:45:00         1.355\n",
       "2022-01-01 01:00:00         1.087\n",
       "...                           ...\n",
       "2022-06-30 22:45:00         0.109\n",
       "2022-06-30 23:00:00         0.134\n",
       "2022-06-30 23:15:00         0.120\n",
       "2022-06-30 23:30:00         0.112\n",
       "2022-06-30 23:45:00         0.140\n",
       "\n",
       "[17372 rows x 1 columns]"
      ]
     },
     "execution_count": 78,
     "metadata": {},
     "output_type": "execute_result"
    }
   ],
   "source": [
    "# Get data electric consumption for Gemeente=Alken AND Register=Afname\n",
    "\n",
    "# Connect to database 'SmartMeterData'\n",
    "connStr = pyodbc.connect('DRIVER={ODBC Driver 17 for SQL Server};SERVER=P210180\\SYNTRA_TNVN;DATABASE=SmartMeterData;Trusted_Connection=yes')\n",
    "cursor = connStr.cursor()\n",
    "\n",
    "# Query data electric consumption for Gemeente=Alken AND Register=Afname\n",
    "query_elek_Alken_Afname = '''SELECT VanDatum,VanTijdstip,Register,Volume,Gemeente FROM Elektriciteit\n",
    "            INNER JOIN EANcodes ON Elektriciteit.EAN = EANcodes.[EAN-code]\n",
    "            WHERE Gemeente = 'Alken'\n",
    "            AND Register = 'Afname' '''\n",
    "df_elek_Afname = pd.read_sql(query_elek_Alken_Afname, connStr)\n",
    "\n",
    "# Ignore warnings\n",
    "warnings.filterwarnings('ignore')\n",
    "\n",
    "# Set datetime as index\n",
    "df_elek_Afname['Datetime'] = pd.to_datetime(df_elek_Afname['VanDatum'] + \" \" + df_elek_Afname['VanTijdstip'], dayfirst=True)\n",
    "df_elek_Afname.set_index('Datetime',inplace=True,drop=True)\n",
    "\n",
    "# Convert dtype of volume to float \n",
    "df_elek_Afname['Afname (kWh)'] = df_elek_Afname['Volume'].str.replace(',', '.').astype(float)\n",
    "\n",
    "#Remove unnecessary colums\n",
    "del df_elek_Afname['VanDatum']\n",
    "del df_elek_Afname['VanTijdstip']\n",
    "del df_elek_Afname['Register']\n",
    "del df_elek_Afname['Volume']\n",
    "del df_elek_Afname['Gemeente']\n",
    "\n",
    "df_elek_Afname"
   ]
  },
  {
   "cell_type": "code",
   "execution_count": 79,
   "id": "6de9c6c9-d5e8-4a13-bc7f-a714ea3daf26",
   "metadata": {},
   "outputs": [
    {
     "data": {
      "text/html": [
       "<div>\n",
       "<style scoped>\n",
       "    .dataframe tbody tr th:only-of-type {\n",
       "        vertical-align: middle;\n",
       "    }\n",
       "\n",
       "    .dataframe tbody tr th {\n",
       "        vertical-align: top;\n",
       "    }\n",
       "\n",
       "    .dataframe thead th {\n",
       "        text-align: right;\n",
       "    }\n",
       "</style>\n",
       "<table border=\"1\" class=\"dataframe\">\n",
       "  <thead>\n",
       "    <tr style=\"text-align: right;\">\n",
       "      <th></th>\n",
       "      <th>Injectie (kWh)</th>\n",
       "    </tr>\n",
       "    <tr>\n",
       "      <th>Datetime</th>\n",
       "      <th></th>\n",
       "    </tr>\n",
       "  </thead>\n",
       "  <tbody>\n",
       "    <tr>\n",
       "      <th>2022-01-01 00:00:00</th>\n",
       "      <td>0.0</td>\n",
       "    </tr>\n",
       "    <tr>\n",
       "      <th>2022-01-01 00:15:00</th>\n",
       "      <td>0.0</td>\n",
       "    </tr>\n",
       "    <tr>\n",
       "      <th>2022-01-01 00:30:00</th>\n",
       "      <td>0.0</td>\n",
       "    </tr>\n",
       "    <tr>\n",
       "      <th>2022-01-01 00:45:00</th>\n",
       "      <td>0.0</td>\n",
       "    </tr>\n",
       "    <tr>\n",
       "      <th>2022-01-01 01:00:00</th>\n",
       "      <td>0.0</td>\n",
       "    </tr>\n",
       "    <tr>\n",
       "      <th>...</th>\n",
       "      <td>...</td>\n",
       "    </tr>\n",
       "    <tr>\n",
       "      <th>2022-06-30 22:45:00</th>\n",
       "      <td>0.0</td>\n",
       "    </tr>\n",
       "    <tr>\n",
       "      <th>2022-06-30 23:00:00</th>\n",
       "      <td>0.0</td>\n",
       "    </tr>\n",
       "    <tr>\n",
       "      <th>2022-06-30 23:15:00</th>\n",
       "      <td>0.0</td>\n",
       "    </tr>\n",
       "    <tr>\n",
       "      <th>2022-06-30 23:30:00</th>\n",
       "      <td>0.0</td>\n",
       "    </tr>\n",
       "    <tr>\n",
       "      <th>2022-06-30 23:45:00</th>\n",
       "      <td>0.0</td>\n",
       "    </tr>\n",
       "  </tbody>\n",
       "</table>\n",
       "<p>17372 rows × 1 columns</p>\n",
       "</div>"
      ],
      "text/plain": [
       "                     Injectie (kWh)\n",
       "Datetime                           \n",
       "2022-01-01 00:00:00             0.0\n",
       "2022-01-01 00:15:00             0.0\n",
       "2022-01-01 00:30:00             0.0\n",
       "2022-01-01 00:45:00             0.0\n",
       "2022-01-01 01:00:00             0.0\n",
       "...                             ...\n",
       "2022-06-30 22:45:00             0.0\n",
       "2022-06-30 23:00:00             0.0\n",
       "2022-06-30 23:15:00             0.0\n",
       "2022-06-30 23:30:00             0.0\n",
       "2022-06-30 23:45:00             0.0\n",
       "\n",
       "[17372 rows x 1 columns]"
      ]
     },
     "execution_count": 79,
     "metadata": {},
     "output_type": "execute_result"
    }
   ],
   "source": [
    "# Get data electric consumption for Gemeente=Alken AND Register=Injectie\n",
    "\n",
    "# Query data electric consumption for Gemeente=Alken AND Register=Injectie\n",
    "query_elek_Alken_Injectie = '''SELECT VanDatum,VanTijdstip,Register,Volume,Gemeente FROM Elektriciteit\n",
    "            INNER JOIN EANcodes ON Elektriciteit.EAN = EANcodes.[EAN-code]\n",
    "            WHERE Gemeente = 'Alken'\n",
    "            AND Register = 'Injectie' '''\n",
    "df_elek_Injectie = pd.read_sql(query_elek_Alken_Injectie, connStr)\n",
    "\n",
    "# Ignore warnings\n",
    "warnings.filterwarnings('ignore')\n",
    "\n",
    "# Set datetime as index\n",
    "df_elek_Injectie['Datetime'] = pd.to_datetime(df_elek_Injectie['VanDatum'] + \" \" + df_elek_Injectie['VanTijdstip'], dayfirst=True)\n",
    "df_elek_Injectie.set_index('Datetime',inplace=True,drop=True)\n",
    "\n",
    "# Convert dtype of volume to float \n",
    "df_elek_Injectie['Injectie (kWh)'] = df_elek_Injectie['Volume'].str.replace(',', '.').astype(float)\n",
    "\n",
    "#Remove unnecessary colums\n",
    "del df_elek_Injectie['VanDatum']\n",
    "del df_elek_Injectie['VanTijdstip']\n",
    "del df_elek_Injectie['Register']\n",
    "del df_elek_Injectie['Volume']\n",
    "del df_elek_Injectie['Gemeente']\n",
    "\n",
    "df_elek_Injectie"
   ]
  },
  {
   "cell_type": "markdown",
   "id": "5f80f2ac-e702-4622-aed4-16c803255c24",
   "metadata": {},
   "source": [
    "# Prepare power consumption data for data analysis"
   ]
  },
  {
   "cell_type": "code",
   "execution_count": 80,
   "id": "73ef8d85-c969-4fe2-8c71-3f0d388826cb",
   "metadata": {},
   "outputs": [
    {
     "data": {
      "text/html": [
       "<div>\n",
       "<style scoped>\n",
       "    .dataframe tbody tr th:only-of-type {\n",
       "        vertical-align: middle;\n",
       "    }\n",
       "\n",
       "    .dataframe tbody tr th {\n",
       "        vertical-align: top;\n",
       "    }\n",
       "\n",
       "    .dataframe thead th {\n",
       "        text-align: right;\n",
       "    }\n",
       "</style>\n",
       "<table border=\"1\" class=\"dataframe\">\n",
       "  <thead>\n",
       "    <tr style=\"text-align: right;\">\n",
       "      <th></th>\n",
       "      <th>Afname (kWh)</th>\n",
       "      <th>Injectie (kWh)</th>\n",
       "    </tr>\n",
       "    <tr>\n",
       "      <th>Datetime</th>\n",
       "      <th></th>\n",
       "      <th></th>\n",
       "    </tr>\n",
       "  </thead>\n",
       "  <tbody>\n",
       "    <tr>\n",
       "      <th>2022-01-01 00:00:00</th>\n",
       "      <td>1.187</td>\n",
       "      <td>0.0</td>\n",
       "    </tr>\n",
       "    <tr>\n",
       "      <th>2022-01-01 00:15:00</th>\n",
       "      <td>0.975</td>\n",
       "      <td>0.0</td>\n",
       "    </tr>\n",
       "    <tr>\n",
       "      <th>2022-01-01 00:30:00</th>\n",
       "      <td>0.964</td>\n",
       "      <td>0.0</td>\n",
       "    </tr>\n",
       "    <tr>\n",
       "      <th>2022-01-01 00:45:00</th>\n",
       "      <td>1.355</td>\n",
       "      <td>0.0</td>\n",
       "    </tr>\n",
       "    <tr>\n",
       "      <th>2022-01-01 01:00:00</th>\n",
       "      <td>1.087</td>\n",
       "      <td>0.0</td>\n",
       "    </tr>\n",
       "    <tr>\n",
       "      <th>...</th>\n",
       "      <td>...</td>\n",
       "      <td>...</td>\n",
       "    </tr>\n",
       "    <tr>\n",
       "      <th>2022-06-30 22:45:00</th>\n",
       "      <td>0.109</td>\n",
       "      <td>0.0</td>\n",
       "    </tr>\n",
       "    <tr>\n",
       "      <th>2022-06-30 23:00:00</th>\n",
       "      <td>0.134</td>\n",
       "      <td>0.0</td>\n",
       "    </tr>\n",
       "    <tr>\n",
       "      <th>2022-06-30 23:15:00</th>\n",
       "      <td>0.120</td>\n",
       "      <td>0.0</td>\n",
       "    </tr>\n",
       "    <tr>\n",
       "      <th>2022-06-30 23:30:00</th>\n",
       "      <td>0.112</td>\n",
       "      <td>0.0</td>\n",
       "    </tr>\n",
       "    <tr>\n",
       "      <th>2022-06-30 23:45:00</th>\n",
       "      <td>0.140</td>\n",
       "      <td>0.0</td>\n",
       "    </tr>\n",
       "  </tbody>\n",
       "</table>\n",
       "<p>17372 rows × 2 columns</p>\n",
       "</div>"
      ],
      "text/plain": [
       "                     Afname (kWh)  Injectie (kWh)\n",
       "Datetime                                         \n",
       "2022-01-01 00:00:00         1.187             0.0\n",
       "2022-01-01 00:15:00         0.975             0.0\n",
       "2022-01-01 00:30:00         0.964             0.0\n",
       "2022-01-01 00:45:00         1.355             0.0\n",
       "2022-01-01 01:00:00         1.087             0.0\n",
       "...                           ...             ...\n",
       "2022-06-30 22:45:00         0.109             0.0\n",
       "2022-06-30 23:00:00         0.134             0.0\n",
       "2022-06-30 23:15:00         0.120             0.0\n",
       "2022-06-30 23:30:00         0.112             0.0\n",
       "2022-06-30 23:45:00         0.140             0.0\n",
       "\n",
       "[17372 rows x 2 columns]"
      ]
     },
     "execution_count": 80,
     "metadata": {},
     "output_type": "execute_result"
    }
   ],
   "source": [
    "# Merge the 2 dataframes into 1\n",
    "df_elek = pd.merge(df_elek_Afname,df_elek_Injectie, on='Datetime')\n",
    "df_elek"
   ]
  },
  {
   "cell_type": "code",
   "execution_count": 81,
   "id": "9d69a4ae-ffe5-4df3-8215-0ead10cbb4eb",
   "metadata": {},
   "outputs": [],
   "source": [
    "# Resample the dataframes\n",
    "\n",
    "# Resample on 15min (original)\n",
    "df_elek_15min = df_elek\n",
    "\n",
    "# Resample on 1hour\n",
    "df_elek_hourly = df_elek.resample(rule='H').sum()\n",
    "\n",
    "# Resample on daily\n",
    "df_elek_daily = df_elek.resample(rule='D').sum()"
   ]
  },
  {
   "cell_type": "markdown",
   "id": "fc5db6ae-fc02-42ec-a15f-fd2c89ee657a",
   "metadata": {},
   "source": [
    "# Data analysis questions"
   ]
  },
  {
   "cell_type": "markdown",
   "id": "4ff66cdf-cffe-4821-bd5a-b02d15c2d307",
   "metadata": {},
   "source": [
    "## Show the electric power consumption and injection time profile, on a daily basis"
   ]
  },
  {
   "cell_type": "code",
   "execution_count": 82,
   "id": "b8aa5534-7fbb-47b9-a96f-d7278c1894ab",
   "metadata": {},
   "outputs": [
    {
     "data": {
      "image/png": "[encoded data removed]",
      "text/plain": [
       "<Figure size 1440x360 with 1 Axes>"
      ]
     },
     "metadata": {
      "needs_background": "light"
     },
     "output_type": "display_data"
    }
   ],
   "source": [
    "# Define plot space\n",
    "fig, ax = plt.subplots(figsize = (20,5))\n",
    "\n",
    "# Create bar plot for electric power consumption\n",
    "ax.bar(df_elek_daily.index,\n",
    "       df_elek_daily['Afname (kWh)'],\n",
    "      color = 'navy',\n",
    "      edgecolor = 'white',\n",
    "      label = 'Consumption')\n",
    "\n",
    "# Create bar plot for electric power injection\n",
    "ax.bar(df_elek_daily.index,\n",
    "       -df_elek_daily['Injectie (kWh)'],\n",
    "      color = 'steelblue',\n",
    "      edgecolor = 'white',\n",
    "      label = 'Injection')\n",
    "\n",
    "# Add title, labels and legend\n",
    "ax.set(title = \"Electric power consumption and injection\",\n",
    "       xlabel = \"Month/Year\", \n",
    "       ylabel = \"kWh/day\")\n",
    "ax.legend();\n",
    "\n",
    "# Customize axes\n",
    "ax.xaxis.set_major_formatter(mdates.DateFormatter('%m/%Y'))\n",
    "ax.autoscale(axis='x',tight=True);\n",
    "\n",
    "plt.show()"
   ]
  },
  {
   "cell_type": "markdown",
   "id": "8d93b8d9-7237-47c3-a4b9-17bd30d0b8f1",
   "metadata": {},
   "source": [
    "## Calculate the total electric power consumption and injection"
   ]
  },
  {
   "cell_type": "code",
   "execution_count": 83,
   "id": "73e51225-412e-4878-89ba-85e4ff31703d",
   "metadata": {},
   "outputs": [
    {
     "data": {
      "text/plain": [
       "Afname (kWh)      3987.737\n",
       "Injectie (kWh)    4435.217\n",
       "dtype: float64"
      ]
     },
     "execution_count": 83,
     "metadata": {},
     "output_type": "execute_result"
    }
   ],
   "source": [
    "df_elek_15min.sum()"
   ]
  },
  {
   "cell_type": "markdown",
   "id": "b2f4042f-7349-462d-8afb-ff7942821695",
   "metadata": {},
   "source": [
    "## Show profile for a specific day"
   ]
  },
  {
   "cell_type": "code",
   "execution_count": 84,
   "id": "a30e759b-2502-4dc5-9386-816a7d34cbdc",
   "metadata": {},
   "outputs": [
    {
     "data": {
      "image/png": "[encoded data removed]",
      "text/plain": [
       "<Figure size 1440x360 with 1 Axes>"
      ]
     },
     "metadata": {
      "needs_background": "light"
     },
     "output_type": "display_data"
    }
   ],
   "source": [
    "df_elek_15min_selected = df_elek_15min[(df_elek_15min.index<='2022-05-10 00:00:00') & (df_elek_15min.index >= '2022-05-09 01:00:00')]\n",
    "\n",
    "# Define plot space\n",
    "fig, ax = plt.subplots(figsize = (20,5))\n",
    "\n",
    "# Create bar plot for electric power consumption\n",
    "ax.plot(df_elek_15min_selected['Afname (kWh)']/4,\n",
    "        color = 'navy')\n",
    "\n",
    "ax.plot(-df_elek_15min_selected['Injectie (kWh)']/4,\n",
    "        color = 'steelblue')\n",
    "\n",
    "# Add title, labels and legend\n",
    "ax.set(title = \"Electric power consumption and injection\",\n",
    "       xlabel = \"Hour of the day\", \n",
    "       ylabel = \"kW\")\n",
    "\n",
    "# Customize axes\n",
    "ax.xaxis.set_major_formatter(mdates.DateFormatter('%H'))\n",
    "ax.autoscale(axis='x',tight=True);\n",
    "\n",
    "plt.show()"
   ]
  },
  {
   "cell_type": "markdown",
   "id": "bfaa4f9f-b4ed-4a47-9bd1-c5bad822676d",
   "metadata": {},
   "source": [
    "## Show the load duration curve for the electric power consumption, on 15min basis"
   ]
  },
  {
   "cell_type": "code",
   "execution_count": 85,
   "id": "d8f30c1c-5462-4ab2-ad20-e1f8375acd4d",
   "metadata": {},
   "outputs": [
    {
     "data": {
      "text/html": [
       "<div>\n",
       "<style scoped>\n",
       "    .dataframe tbody tr th:only-of-type {\n",
       "        vertical-align: middle;\n",
       "    }\n",
       "\n",
       "    .dataframe tbody tr th {\n",
       "        vertical-align: top;\n",
       "    }\n",
       "\n",
       "    .dataframe thead th {\n",
       "        text-align: right;\n",
       "    }\n",
       "</style>\n",
       "<table border=\"1\" class=\"dataframe\">\n",
       "  <thead>\n",
       "    <tr style=\"text-align: right;\">\n",
       "      <th></th>\n",
       "      <th>Datetime</th>\n",
       "      <th>Afname (kWh)</th>\n",
       "    </tr>\n",
       "  </thead>\n",
       "  <tbody>\n",
       "    <tr>\n",
       "      <th>0</th>\n",
       "      <td>2022-05-27 19:00:00</td>\n",
       "      <td>3.996</td>\n",
       "    </tr>\n",
       "    <tr>\n",
       "      <th>1</th>\n",
       "      <td>2022-05-27 19:15:00</td>\n",
       "      <td>3.619</td>\n",
       "    </tr>\n",
       "    <tr>\n",
       "      <th>2</th>\n",
       "      <td>2022-03-12 19:45:00</td>\n",
       "      <td>3.590</td>\n",
       "    </tr>\n",
       "    <tr>\n",
       "      <th>3</th>\n",
       "      <td>2022-02-18 19:30:00</td>\n",
       "      <td>3.491</td>\n",
       "    </tr>\n",
       "    <tr>\n",
       "      <th>4</th>\n",
       "      <td>2022-04-10 19:45:00</td>\n",
       "      <td>3.473</td>\n",
       "    </tr>\n",
       "    <tr>\n",
       "      <th>...</th>\n",
       "      <td>...</td>\n",
       "      <td>...</td>\n",
       "    </tr>\n",
       "    <tr>\n",
       "      <th>17367</th>\n",
       "      <td>2022-04-05 17:00:00</td>\n",
       "      <td>0.000</td>\n",
       "    </tr>\n",
       "    <tr>\n",
       "      <th>17368</th>\n",
       "      <td>2022-04-05 17:15:00</td>\n",
       "      <td>0.000</td>\n",
       "    </tr>\n",
       "    <tr>\n",
       "      <th>17369</th>\n",
       "      <td>2022-04-05 17:45:00</td>\n",
       "      <td>0.000</td>\n",
       "    </tr>\n",
       "    <tr>\n",
       "      <th>17370</th>\n",
       "      <td>2022-04-05 18:00:00</td>\n",
       "      <td>0.000</td>\n",
       "    </tr>\n",
       "    <tr>\n",
       "      <th>17371</th>\n",
       "      <td>2022-04-01 12:30:00</td>\n",
       "      <td>0.000</td>\n",
       "    </tr>\n",
       "  </tbody>\n",
       "</table>\n",
       "<p>17372 rows × 2 columns</p>\n",
       "</div>"
      ],
      "text/plain": [
       "                 Datetime  Afname (kWh)\n",
       "0     2022-05-27 19:00:00         3.996\n",
       "1     2022-05-27 19:15:00         3.619\n",
       "2     2022-03-12 19:45:00         3.590\n",
       "3     2022-02-18 19:30:00         3.491\n",
       "4     2022-04-10 19:45:00         3.473\n",
       "...                   ...           ...\n",
       "17367 2022-04-05 17:00:00         0.000\n",
       "17368 2022-04-05 17:15:00         0.000\n",
       "17369 2022-04-05 17:45:00         0.000\n",
       "17370 2022-04-05 18:00:00         0.000\n",
       "17371 2022-04-01 12:30:00         0.000\n",
       "\n",
       "[17372 rows x 2 columns]"
      ]
     },
     "execution_count": 85,
     "metadata": {},
     "output_type": "execute_result"
    }
   ],
   "source": [
    "df_elek_15min_loadcurve = df_elek_15min['Afname (kWh)'].sort_values(ascending=False)\n",
    "df_elek_15min_loadcurve = df_elek_15min_loadcurve.reset_index()\n",
    "df_elek_15min_loadcurve"
   ]
  },
  {
   "cell_type": "code",
   "execution_count": 86,
   "id": "657113a5-3eae-4d42-b052-ebd89286f94f",
   "metadata": {},
   "outputs": [
    {
     "data": {
      "image/png": "[encoded data removed]",
      "text/plain": [
       "<Figure size 1440x360 with 1 Axes>"
      ]
     },
     "metadata": {
      "needs_background": "light"
     },
     "output_type": "display_data"
    }
   ],
   "source": [
    "# Define plot space\n",
    "fig, ax = plt.subplots(figsize = (20,5))\n",
    "\n",
    "# Create bar plot for electric power consumption\n",
    "ax.plot(df_elek_15min_loadcurve.index,\n",
    "        df_elek_15min_loadcurve['Afname (kWh)']/4,\n",
    "        color = 'navy')\n",
    "\n",
    "# Add title, labels and legend\n",
    "ax.set(title = \"Electric power consumption duration curve\",\n",
    "       xlabel = \"# of 15 minutes\", \n",
    "       ylabel = \"kW\")\n",
    "\n",
    "ax.autoscale(axis='x',tight=True);\n",
    "\n",
    "plt.show()"
   ]
  }
 ],
 "metadata": {
  "kernelspec": {
   "display_name": "Python 3 (ipykernel)",
   "language": "python",
   "name": "python3"
  },
  "language_info": {
   "codemirror_mode": {
    "name": "ipython",
    "version": 3
   },
   "file_extension": ".py",
   "mimetype": "text/x-python",
   "name": "python",
   "nbconvert_exporter": "python",
   "pygments_lexer": "ipython3",
   "version": "3.9.7"
  },
  "toc-autonumbering": true,
  "toc-showcode": false,
  "toc-showmarkdowntxt": false,
  "toc-showtags": false
 },
 "nbformat": 4,
 "nbformat_minor": 5
}
