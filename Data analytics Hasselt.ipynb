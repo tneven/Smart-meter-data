{
 "cells": [
  {
   "cell_type": "markdown",
   "id": "8f4f5e6a-78f6-477a-a571-d59c10f2e541",
   "metadata": {},
   "source": [
    "Text"
   ]
  },
  {
   "cell_type": "code",
   "execution_count": 120,
   "id": "92ea170a-e5e7-4e35-abd9-dd9c085cde63",
   "metadata": {},
   "outputs": [],
   "source": [
    "import pandas as pd\n",
    "from pandas import Series,DataFrame\n",
    "import numpy as np\n",
    "import matplotlib.pyplot as plt\n",
    "from matplotlib.pyplot import figure\n",
    "import matplotlib.dates as mdates\n",
    "import seaborn as sns\n",
    "import datetime as dt\n",
    "from datetime import datetime\n",
    "from datetime import timezone\n",
    "import pandas_profiling\n",
    "import pyodbc\n",
    "import warnings\n",
    "%matplotlib inline"
   ]
  },
  {
   "cell_type": "markdown",
   "id": "b332cb31-679c-4672-9422-2f3ed569112c",
   "metadata": {},
   "source": [
    "# Get data from database"
   ]
  },
  {
   "cell_type": "markdown",
   "id": "fa13302a-6349-400f-bd0f-0a52b612704d",
   "metadata": {},
   "source": [
    "## Data electric power consumption"
   ]
  },
  {
   "cell_type": "code",
   "execution_count": 121,
   "id": "8ae26f92-5d5c-480c-93ba-9b15e070c287",
   "metadata": {},
   "outputs": [
    {
     "data": {
      "text/html": [
       "<div>\n",
       "<style scoped>\n",
       "    .dataframe tbody tr th:only-of-type {\n",
       "        vertical-align: middle;\n",
       "    }\n",
       "\n",
       "    .dataframe tbody tr th {\n",
       "        vertical-align: top;\n",
       "    }\n",
       "\n",
       "    .dataframe thead th {\n",
       "        text-align: right;\n",
       "    }\n",
       "</style>\n",
       "<table border=\"1\" class=\"dataframe\">\n",
       "  <thead>\n",
       "    <tr style=\"text-align: right;\">\n",
       "      <th></th>\n",
       "      <th>Elek afname (kWh)</th>\n",
       "    </tr>\n",
       "    <tr>\n",
       "      <th>Datetime</th>\n",
       "      <th></th>\n",
       "    </tr>\n",
       "  </thead>\n",
       "  <tbody>\n",
       "    <tr>\n",
       "      <th>2022-01-01 00:00:00</th>\n",
       "      <td>0.067</td>\n",
       "    </tr>\n",
       "    <tr>\n",
       "      <th>2022-01-01 00:15:00</th>\n",
       "      <td>0.054</td>\n",
       "    </tr>\n",
       "    <tr>\n",
       "      <th>2022-01-01 00:30:00</th>\n",
       "      <td>0.066</td>\n",
       "    </tr>\n",
       "    <tr>\n",
       "      <th>2022-01-01 00:45:00</th>\n",
       "      <td>0.055</td>\n",
       "    </tr>\n",
       "    <tr>\n",
       "      <th>2022-01-01 01:00:00</th>\n",
       "      <td>0.064</td>\n",
       "    </tr>\n",
       "    <tr>\n",
       "      <th>...</th>\n",
       "      <td>...</td>\n",
       "    </tr>\n",
       "    <tr>\n",
       "      <th>2022-06-30 22:45:00</th>\n",
       "      <td>0.068</td>\n",
       "    </tr>\n",
       "    <tr>\n",
       "      <th>2022-06-30 23:00:00</th>\n",
       "      <td>0.057</td>\n",
       "    </tr>\n",
       "    <tr>\n",
       "      <th>2022-06-30 23:15:00</th>\n",
       "      <td>0.044</td>\n",
       "    </tr>\n",
       "    <tr>\n",
       "      <th>2022-06-30 23:30:00</th>\n",
       "      <td>0.035</td>\n",
       "    </tr>\n",
       "    <tr>\n",
       "      <th>2022-06-30 23:45:00</th>\n",
       "      <td>0.032</td>\n",
       "    </tr>\n",
       "  </tbody>\n",
       "</table>\n",
       "<p>17372 rows × 1 columns</p>\n",
       "</div>"
      ],
      "text/plain": [
       "                     Elek afname (kWh)\n",
       "Datetime                              \n",
       "2022-01-01 00:00:00              0.067\n",
       "2022-01-01 00:15:00              0.054\n",
       "2022-01-01 00:30:00              0.066\n",
       "2022-01-01 00:45:00              0.055\n",
       "2022-01-01 01:00:00              0.064\n",
       "...                                ...\n",
       "2022-06-30 22:45:00              0.068\n",
       "2022-06-30 23:00:00              0.057\n",
       "2022-06-30 23:15:00              0.044\n",
       "2022-06-30 23:30:00              0.035\n",
       "2022-06-30 23:45:00              0.032\n",
       "\n",
       "[17372 rows x 1 columns]"
      ]
     },
     "execution_count": 121,
     "metadata": {},
     "output_type": "execute_result"
    }
   ],
   "source": [
    "# Get data electric consumption for Gemeente=Hasselt AND Register=Afname\n",
    "\n",
    "# Connect to database 'SmartMeterData'\n",
    "connStr = pyodbc.connect('DRIVER={ODBC Driver 17 for SQL Server};SERVER=P210180\\SYNTRA_TNVN;DATABASE=SmartMeterData;Trusted_Connection=yes')\n",
    "cursor = connStr.cursor()\n",
    "\n",
    "# Query data electric consumption for Gemeente=Hasselt AND Register=Afname\n",
    "query_elek_Hasselt_Afname = '''SELECT VanDatum,VanTijdstip,Register,Volume,Gemeente FROM Elektriciteit\n",
    "            INNER JOIN EANcodes ON Elektriciteit.EAN = EANcodes.[EAN-code]\n",
    "            WHERE Gemeente = 'Hasselt'\n",
    "            AND Register = 'Afname' '''\n",
    "df_elek_Afname = pd.read_sql(query_elek_Hasselt_Afname, connStr)\n",
    "\n",
    "# Ignore warnings\n",
    "warnings.filterwarnings('ignore')\n",
    "\n",
    "# Set datetime as index\n",
    "df_elek_Afname['Datetime'] = pd.to_datetime(df_elek_Afname['VanDatum'] + \" \" + df_elek_Afname['VanTijdstip'], dayfirst=True)\n",
    "df_elek_Afname.set_index('Datetime',inplace=True,drop=True)\n",
    "\n",
    "# Convert dtype of volume to float \n",
    "df_elek_Afname['Elek afname (kWh)'] = df_elek_Afname['Volume'].str.replace(',', '.').astype(float)\n",
    "\n",
    "#Remove unnecessary colums\n",
    "del df_elek_Afname['VanDatum']\n",
    "del df_elek_Afname['VanTijdstip']\n",
    "del df_elek_Afname['Register']\n",
    "del df_elek_Afname['Volume']\n",
    "del df_elek_Afname['Gemeente']\n",
    "\n",
    "df_elek_Afname"
   ]
  },
  {
   "cell_type": "markdown",
   "id": "8fb004c0-b0f7-412a-bcc9-721bac84db6a",
   "metadata": {},
   "source": [
    "## Data electric power injection"
   ]
  },
  {
   "cell_type": "code",
   "execution_count": 122,
   "id": "6de9c6c9-d5e8-4a13-bc7f-a714ea3daf26",
   "metadata": {},
   "outputs": [
    {
     "data": {
      "text/html": [
       "<div>\n",
       "<style scoped>\n",
       "    .dataframe tbody tr th:only-of-type {\n",
       "        vertical-align: middle;\n",
       "    }\n",
       "\n",
       "    .dataframe tbody tr th {\n",
       "        vertical-align: top;\n",
       "    }\n",
       "\n",
       "    .dataframe thead th {\n",
       "        text-align: right;\n",
       "    }\n",
       "</style>\n",
       "<table border=\"1\" class=\"dataframe\">\n",
       "  <thead>\n",
       "    <tr style=\"text-align: right;\">\n",
       "      <th></th>\n",
       "      <th>Elek injectie (kWh)</th>\n",
       "    </tr>\n",
       "    <tr>\n",
       "      <th>Datetime</th>\n",
       "      <th></th>\n",
       "    </tr>\n",
       "  </thead>\n",
       "  <tbody>\n",
       "    <tr>\n",
       "      <th>2022-01-01 00:00:00</th>\n",
       "      <td>0.0</td>\n",
       "    </tr>\n",
       "    <tr>\n",
       "      <th>2022-01-01 00:15:00</th>\n",
       "      <td>0.0</td>\n",
       "    </tr>\n",
       "    <tr>\n",
       "      <th>2022-01-01 00:30:00</th>\n",
       "      <td>0.0</td>\n",
       "    </tr>\n",
       "    <tr>\n",
       "      <th>2022-01-01 00:45:00</th>\n",
       "      <td>0.0</td>\n",
       "    </tr>\n",
       "    <tr>\n",
       "      <th>2022-01-01 01:00:00</th>\n",
       "      <td>0.0</td>\n",
       "    </tr>\n",
       "    <tr>\n",
       "      <th>...</th>\n",
       "      <td>...</td>\n",
       "    </tr>\n",
       "    <tr>\n",
       "      <th>2022-06-30 22:45:00</th>\n",
       "      <td>0.0</td>\n",
       "    </tr>\n",
       "    <tr>\n",
       "      <th>2022-06-30 23:00:00</th>\n",
       "      <td>0.0</td>\n",
       "    </tr>\n",
       "    <tr>\n",
       "      <th>2022-06-30 23:15:00</th>\n",
       "      <td>0.0</td>\n",
       "    </tr>\n",
       "    <tr>\n",
       "      <th>2022-06-30 23:30:00</th>\n",
       "      <td>0.0</td>\n",
       "    </tr>\n",
       "    <tr>\n",
       "      <th>2022-06-30 23:45:00</th>\n",
       "      <td>0.0</td>\n",
       "    </tr>\n",
       "  </tbody>\n",
       "</table>\n",
       "<p>17372 rows × 1 columns</p>\n",
       "</div>"
      ],
      "text/plain": [
       "                     Elek injectie (kWh)\n",
       "Datetime                                \n",
       "2022-01-01 00:00:00                  0.0\n",
       "2022-01-01 00:15:00                  0.0\n",
       "2022-01-01 00:30:00                  0.0\n",
       "2022-01-01 00:45:00                  0.0\n",
       "2022-01-01 01:00:00                  0.0\n",
       "...                                  ...\n",
       "2022-06-30 22:45:00                  0.0\n",
       "2022-06-30 23:00:00                  0.0\n",
       "2022-06-30 23:15:00                  0.0\n",
       "2022-06-30 23:30:00                  0.0\n",
       "2022-06-30 23:45:00                  0.0\n",
       "\n",
       "[17372 rows x 1 columns]"
      ]
     },
     "execution_count": 122,
     "metadata": {},
     "output_type": "execute_result"
    }
   ],
   "source": [
    "# Get data electric consumption for Gemeente=Hasselt AND Register=Injectie\n",
    "\n",
    "# Query data electric consumption for Gemeente=Hasselt AND Register=Injectie\n",
    "query_elek_Hasselt_Injectie = '''SELECT VanDatum,VanTijdstip,Register,Volume,Gemeente FROM Elektriciteit\n",
    "            INNER JOIN EANcodes ON Elektriciteit.EAN = EANcodes.[EAN-code]\n",
    "            WHERE Gemeente = 'Hasselt'\n",
    "            AND Register = 'Injectie' '''\n",
    "df_elek_Injectie = pd.read_sql(query_elek_Hasselt_Injectie, connStr)\n",
    "\n",
    "# Ignore warnings\n",
    "warnings.filterwarnings('ignore')\n",
    "\n",
    "# Set datetime as index\n",
    "df_elek_Injectie['Datetime'] = pd.to_datetime(df_elek_Injectie['VanDatum'] + \" \" + df_elek_Injectie['VanTijdstip'], dayfirst=True)\n",
    "df_elek_Injectie.set_index('Datetime',inplace=True,drop=True)\n",
    "\n",
    "# Convert dtype of volume to float \n",
    "df_elek_Injectie['Elek injectie (kWh)'] = df_elek_Injectie['Volume'].str.replace(',', '.').astype(float)\n",
    "\n",
    "#Remove unnecessary colums\n",
    "del df_elek_Injectie['VanDatum']\n",
    "del df_elek_Injectie['VanTijdstip']\n",
    "del df_elek_Injectie['Register']\n",
    "del df_elek_Injectie['Volume']\n",
    "del df_elek_Injectie['Gemeente']\n",
    "\n",
    "df_elek_Injectie"
   ]
  },
  {
   "cell_type": "markdown",
   "id": "b84ebe0d-56cd-4ef7-8ab2-2cd14a4c4ac2",
   "metadata": {},
   "source": [
    "## Data gas consumption"
   ]
  },
  {
   "cell_type": "code",
   "execution_count": 123,
   "id": "16f8febd-65e1-4c3f-8efc-9f07392bcc4c",
   "metadata": {},
   "outputs": [
    {
     "data": {
      "text/html": [
       "<div>\n",
       "<style scoped>\n",
       "    .dataframe tbody tr th:only-of-type {\n",
       "        vertical-align: middle;\n",
       "    }\n",
       "\n",
       "    .dataframe tbody tr th {\n",
       "        vertical-align: top;\n",
       "    }\n",
       "\n",
       "    .dataframe thead th {\n",
       "        text-align: right;\n",
       "    }\n",
       "</style>\n",
       "<table border=\"1\" class=\"dataframe\">\n",
       "  <thead>\n",
       "    <tr style=\"text-align: right;\">\n",
       "      <th></th>\n",
       "      <th>Aardgas afname (kWh)</th>\n",
       "    </tr>\n",
       "    <tr>\n",
       "      <th>Datetime</th>\n",
       "      <th></th>\n",
       "    </tr>\n",
       "  </thead>\n",
       "  <tbody>\n",
       "    <tr>\n",
       "      <th>2022-01-01 00:00:00</th>\n",
       "      <td>0.466</td>\n",
       "    </tr>\n",
       "    <tr>\n",
       "      <th>2022-01-01 01:00:00</th>\n",
       "      <td>2.022</td>\n",
       "    </tr>\n",
       "    <tr>\n",
       "      <th>2022-01-01 02:00:00</th>\n",
       "      <td>0.034</td>\n",
       "    </tr>\n",
       "    <tr>\n",
       "      <th>2022-01-01 03:00:00</th>\n",
       "      <td>2.101</td>\n",
       "    </tr>\n",
       "    <tr>\n",
       "      <th>2022-01-01 04:00:00</th>\n",
       "      <td>1.931</td>\n",
       "    </tr>\n",
       "    <tr>\n",
       "      <th>...</th>\n",
       "      <td>...</td>\n",
       "    </tr>\n",
       "    <tr>\n",
       "      <th>2022-06-30 19:00:00</th>\n",
       "      <td>0.000</td>\n",
       "    </tr>\n",
       "    <tr>\n",
       "      <th>2022-06-30 20:00:00</th>\n",
       "      <td>0.000</td>\n",
       "    </tr>\n",
       "    <tr>\n",
       "      <th>2022-06-30 21:00:00</th>\n",
       "      <td>0.000</td>\n",
       "    </tr>\n",
       "    <tr>\n",
       "      <th>2022-06-30 22:00:00</th>\n",
       "      <td>0.000</td>\n",
       "    </tr>\n",
       "    <tr>\n",
       "      <th>2022-06-30 23:00:00</th>\n",
       "      <td>0.000</td>\n",
       "    </tr>\n",
       "  </tbody>\n",
       "</table>\n",
       "<p>4343 rows × 1 columns</p>\n",
       "</div>"
      ],
      "text/plain": [
       "                     Aardgas afname (kWh)\n",
       "Datetime                                 \n",
       "2022-01-01 00:00:00                 0.466\n",
       "2022-01-01 01:00:00                 2.022\n",
       "2022-01-01 02:00:00                 0.034\n",
       "2022-01-01 03:00:00                 2.101\n",
       "2022-01-01 04:00:00                 1.931\n",
       "...                                   ...\n",
       "2022-06-30 19:00:00                 0.000\n",
       "2022-06-30 20:00:00                 0.000\n",
       "2022-06-30 21:00:00                 0.000\n",
       "2022-06-30 22:00:00                 0.000\n",
       "2022-06-30 23:00:00                 0.000\n",
       "\n",
       "[4343 rows x 1 columns]"
      ]
     },
     "execution_count": 123,
     "metadata": {},
     "output_type": "execute_result"
    }
   ],
   "source": [
    "# Get data gas consumption for Gemeente=Hasselt\n",
    "\n",
    "# Query data aardgas for Gemeente=Hasselt\n",
    "query_aardgas_Hasselt = '''SELECT VanDatum,VanTijdstip,Volume,Gemeente FROM Aardgas\n",
    "            INNER JOIN EANcodes ON Aardgas.EAN = EANcodes.[EAN-code]\n",
    "            WHERE Gemeente = 'Hasselt' '''\n",
    "df_aardgas = pd.read_sql(query_aardgas_Hasselt, connStr)\n",
    "\n",
    "# Ignore warnings\n",
    "warnings.filterwarnings('ignore')\n",
    "\n",
    "# Set datetime as index\n",
    "df_aardgas['Datetime'] = pd.to_datetime(df_aardgas['VanDatum'] + \" \" + df_aardgas['VanTijdstip'], dayfirst=True)\n",
    "df_aardgas.set_index('Datetime',inplace=True,drop=True)\n",
    "\n",
    "# Convert dtype of volume to float \n",
    "df_aardgas['Aardgas afname (kWh)'] = df_aardgas['Volume'].str.replace(',', '.').astype(float)\n",
    "\n",
    "#Remove unnecessary colums\n",
    "del df_aardgas['VanDatum']\n",
    "del df_aardgas['VanTijdstip']\n",
    "del df_aardgas['Volume']\n",
    "del df_aardgas['Gemeente']\n",
    "\n",
    "df_aardgas"
   ]
  },
  {
   "cell_type": "markdown",
   "id": "d62cd1d2-47ad-4b6f-986d-d56a2af88695",
   "metadata": {},
   "source": [
    "## Data outdoor temperature (ODT)"
   ]
  },
  {
   "cell_type": "code",
   "execution_count": 124,
   "id": "72f4e6cd-282e-4d12-b81f-25fc7921290c",
   "metadata": {},
   "outputs": [
    {
     "data": {
      "text/html": [
       "<div>\n",
       "<style scoped>\n",
       "    .dataframe tbody tr th:only-of-type {\n",
       "        vertical-align: middle;\n",
       "    }\n",
       "\n",
       "    .dataframe tbody tr th {\n",
       "        vertical-align: top;\n",
       "    }\n",
       "\n",
       "    .dataframe thead th {\n",
       "        text-align: right;\n",
       "    }\n",
       "</style>\n",
       "<table border=\"1\" class=\"dataframe\">\n",
       "  <thead>\n",
       "    <tr style=\"text-align: right;\">\n",
       "      <th></th>\n",
       "      <th>Temperatuur (°C)</th>\n",
       "    </tr>\n",
       "    <tr>\n",
       "      <th>Datetime</th>\n",
       "      <th></th>\n",
       "    </tr>\n",
       "  </thead>\n",
       "  <tbody>\n",
       "    <tr>\n",
       "      <th>2022-01-01 01:00:00</th>\n",
       "      <td>12.9</td>\n",
       "    </tr>\n",
       "    <tr>\n",
       "      <th>2022-01-01 02:00:00</th>\n",
       "      <td>12.9</td>\n",
       "    </tr>\n",
       "    <tr>\n",
       "      <th>2022-01-01 03:00:00</th>\n",
       "      <td>12.7</td>\n",
       "    </tr>\n",
       "    <tr>\n",
       "      <th>2022-01-01 04:00:00</th>\n",
       "      <td>12.7</td>\n",
       "    </tr>\n",
       "    <tr>\n",
       "      <th>2022-01-01 05:00:00</th>\n",
       "      <td>12.6</td>\n",
       "    </tr>\n",
       "    <tr>\n",
       "      <th>...</th>\n",
       "      <td>...</td>\n",
       "    </tr>\n",
       "    <tr>\n",
       "      <th>2022-06-30 19:00:00</th>\n",
       "      <td>13.8</td>\n",
       "    </tr>\n",
       "    <tr>\n",
       "      <th>2022-06-30 20:00:00</th>\n",
       "      <td>13.7</td>\n",
       "    </tr>\n",
       "    <tr>\n",
       "      <th>2022-06-30 21:00:00</th>\n",
       "      <td>13.5</td>\n",
       "    </tr>\n",
       "    <tr>\n",
       "      <th>2022-06-30 22:00:00</th>\n",
       "      <td>13.3</td>\n",
       "    </tr>\n",
       "    <tr>\n",
       "      <th>2022-06-30 23:00:00</th>\n",
       "      <td>12.8</td>\n",
       "    </tr>\n",
       "  </tbody>\n",
       "</table>\n",
       "<p>3399 rows × 1 columns</p>\n",
       "</div>"
      ],
      "text/plain": [
       "                     Temperatuur (°C)\n",
       "Datetime                             \n",
       "2022-01-01 01:00:00              12.9\n",
       "2022-01-01 02:00:00              12.9\n",
       "2022-01-01 03:00:00              12.7\n",
       "2022-01-01 04:00:00              12.7\n",
       "2022-01-01 05:00:00              12.6\n",
       "...                               ...\n",
       "2022-06-30 19:00:00              13.8\n",
       "2022-06-30 20:00:00              13.7\n",
       "2022-06-30 21:00:00              13.5\n",
       "2022-06-30 22:00:00              13.3\n",
       "2022-06-30 23:00:00              12.8\n",
       "\n",
       "[3399 rows x 1 columns]"
      ]
     },
     "execution_count": 124,
     "metadata": {},
     "output_type": "execute_result"
    }
   ],
   "source": [
    "# Get data gas consumption for Gemeente=Hasselt\n",
    "\n",
    "# Query data aardgas for Gemeente=Hasselt\n",
    "query_ODT = '''SELECT * FROM Temperatuur '''\n",
    "df_ODT = pd.read_sql(query_ODT, connStr)\n",
    "\n",
    "# # Ignore warnings\n",
    "# warnings.filterwarnings('ignore')\n",
    "\n",
    "# Set datetime as index\n",
    "df_ODT['Datetime'] = pd.to_datetime(df_ODT['Datetime'], dayfirst=True)\n",
    "df_ODT.set_index('Datetime',inplace=True,drop=True)\n",
    "\n",
    "# Convert dtype of temperature to float \n",
    "df_ODT['Temperatuur (°C)'] = df_ODT['Temperatuur (°C)'].str.replace(',', '.').astype(float)\n",
    "\n",
    "# Resample to 1 hour data en drop NA's\n",
    "df_ODT = df_ODT.resample(rule='H').mean().dropna()\n",
    "\n",
    "df_ODT"
   ]
  },
  {
   "cell_type": "markdown",
   "id": "5f80f2ac-e702-4622-aed4-16c803255c24",
   "metadata": {},
   "source": [
    "# Prepare energy data for data analysis"
   ]
  },
  {
   "cell_type": "markdown",
   "id": "f4fcbf90-1d37-4627-a508-b89fe8c8fde3",
   "metadata": {},
   "source": [
    "## Data electric power"
   ]
  },
  {
   "cell_type": "code",
   "execution_count": 125,
   "id": "73ef8d85-c969-4fe2-8c71-3f0d388826cb",
   "metadata": {},
   "outputs": [
    {
     "data": {
      "text/html": [
       "<div>\n",
       "<style scoped>\n",
       "    .dataframe tbody tr th:only-of-type {\n",
       "        vertical-align: middle;\n",
       "    }\n",
       "\n",
       "    .dataframe tbody tr th {\n",
       "        vertical-align: top;\n",
       "    }\n",
       "\n",
       "    .dataframe thead th {\n",
       "        text-align: right;\n",
       "    }\n",
       "</style>\n",
       "<table border=\"1\" class=\"dataframe\">\n",
       "  <thead>\n",
       "    <tr style=\"text-align: right;\">\n",
       "      <th></th>\n",
       "      <th>Elek afname (kWh)</th>\n",
       "      <th>Elek injectie (kWh)</th>\n",
       "    </tr>\n",
       "    <tr>\n",
       "      <th>Datetime</th>\n",
       "      <th></th>\n",
       "      <th></th>\n",
       "    </tr>\n",
       "  </thead>\n",
       "  <tbody>\n",
       "    <tr>\n",
       "      <th>2022-01-01 00:00:00</th>\n",
       "      <td>0.067</td>\n",
       "      <td>0.0</td>\n",
       "    </tr>\n",
       "    <tr>\n",
       "      <th>2022-01-01 00:15:00</th>\n",
       "      <td>0.054</td>\n",
       "      <td>0.0</td>\n",
       "    </tr>\n",
       "    <tr>\n",
       "      <th>2022-01-01 00:30:00</th>\n",
       "      <td>0.066</td>\n",
       "      <td>0.0</td>\n",
       "    </tr>\n",
       "    <tr>\n",
       "      <th>2022-01-01 00:45:00</th>\n",
       "      <td>0.055</td>\n",
       "      <td>0.0</td>\n",
       "    </tr>\n",
       "    <tr>\n",
       "      <th>2022-01-01 01:00:00</th>\n",
       "      <td>0.064</td>\n",
       "      <td>0.0</td>\n",
       "    </tr>\n",
       "    <tr>\n",
       "      <th>...</th>\n",
       "      <td>...</td>\n",
       "      <td>...</td>\n",
       "    </tr>\n",
       "    <tr>\n",
       "      <th>2022-06-30 22:45:00</th>\n",
       "      <td>0.068</td>\n",
       "      <td>0.0</td>\n",
       "    </tr>\n",
       "    <tr>\n",
       "      <th>2022-06-30 23:00:00</th>\n",
       "      <td>0.057</td>\n",
       "      <td>0.0</td>\n",
       "    </tr>\n",
       "    <tr>\n",
       "      <th>2022-06-30 23:15:00</th>\n",
       "      <td>0.044</td>\n",
       "      <td>0.0</td>\n",
       "    </tr>\n",
       "    <tr>\n",
       "      <th>2022-06-30 23:30:00</th>\n",
       "      <td>0.035</td>\n",
       "      <td>0.0</td>\n",
       "    </tr>\n",
       "    <tr>\n",
       "      <th>2022-06-30 23:45:00</th>\n",
       "      <td>0.032</td>\n",
       "      <td>0.0</td>\n",
       "    </tr>\n",
       "  </tbody>\n",
       "</table>\n",
       "<p>17372 rows × 2 columns</p>\n",
       "</div>"
      ],
      "text/plain": [
       "                     Elek afname (kWh)  Elek injectie (kWh)\n",
       "Datetime                                                   \n",
       "2022-01-01 00:00:00              0.067                  0.0\n",
       "2022-01-01 00:15:00              0.054                  0.0\n",
       "2022-01-01 00:30:00              0.066                  0.0\n",
       "2022-01-01 00:45:00              0.055                  0.0\n",
       "2022-01-01 01:00:00              0.064                  0.0\n",
       "...                                ...                  ...\n",
       "2022-06-30 22:45:00              0.068                  0.0\n",
       "2022-06-30 23:00:00              0.057                  0.0\n",
       "2022-06-30 23:15:00              0.044                  0.0\n",
       "2022-06-30 23:30:00              0.035                  0.0\n",
       "2022-06-30 23:45:00              0.032                  0.0\n",
       "\n",
       "[17372 rows x 2 columns]"
      ]
     },
     "execution_count": 125,
     "metadata": {},
     "output_type": "execute_result"
    }
   ],
   "source": [
    "# Merge 'df_elek_Afname' and 'df_elek_Injectie' into 1 dataframe\n",
    "df_elek = pd.merge(df_elek_Afname,df_elek_Injectie,on='Datetime')\n",
    "df_elek"
   ]
  },
  {
   "cell_type": "code",
   "execution_count": 126,
   "id": "239e956e-ee1a-4d7b-911a-8bd1bbef68c1",
   "metadata": {},
   "outputs": [],
   "source": [
    "# Resample on 15min (original)\n",
    "df_elek_15min = df_elek\n",
    "\n",
    "# Resample on 1hour\n",
    "df_elek_hourly = df_elek.resample(rule='H').sum()\n",
    "\n",
    "# Resample on daily\n",
    "df_elek_daily = df_elek.resample(rule='D').sum()"
   ]
  },
  {
   "cell_type": "markdown",
   "id": "06ead48a-2c4d-43ce-a06f-04ecb604b760",
   "metadata": {},
   "source": [
    "## Data aardgas"
   ]
  },
  {
   "cell_type": "code",
   "execution_count": 155,
   "id": "957b81db-f6d6-4ff8-8198-e991a1248e50",
   "metadata": {},
   "outputs": [
    {
     "data": {
      "text/html": [
       "<div>\n",
       "<style scoped>\n",
       "    .dataframe tbody tr th:only-of-type {\n",
       "        vertical-align: middle;\n",
       "    }\n",
       "\n",
       "    .dataframe tbody tr th {\n",
       "        vertical-align: top;\n",
       "    }\n",
       "\n",
       "    .dataframe thead th {\n",
       "        text-align: right;\n",
       "    }\n",
       "</style>\n",
       "<table border=\"1\" class=\"dataframe\">\n",
       "  <thead>\n",
       "    <tr style=\"text-align: right;\">\n",
       "      <th></th>\n",
       "      <th>Aardgas afname (kWh)</th>\n",
       "      <th>Temperatuur (°C)</th>\n",
       "    </tr>\n",
       "    <tr>\n",
       "      <th>Datetime</th>\n",
       "      <th></th>\n",
       "      <th></th>\n",
       "    </tr>\n",
       "  </thead>\n",
       "  <tbody>\n",
       "    <tr>\n",
       "      <th>2022-01-01 00:00:00</th>\n",
       "      <td>0.466</td>\n",
       "      <td>12.9</td>\n",
       "    </tr>\n",
       "    <tr>\n",
       "      <th>2022-01-01 01:00:00</th>\n",
       "      <td>2.022</td>\n",
       "      <td>12.9</td>\n",
       "    </tr>\n",
       "    <tr>\n",
       "      <th>2022-01-01 02:00:00</th>\n",
       "      <td>0.034</td>\n",
       "      <td>12.9</td>\n",
       "    </tr>\n",
       "    <tr>\n",
       "      <th>2022-01-01 03:00:00</th>\n",
       "      <td>2.101</td>\n",
       "      <td>12.7</td>\n",
       "    </tr>\n",
       "    <tr>\n",
       "      <th>2022-01-01 04:00:00</th>\n",
       "      <td>1.931</td>\n",
       "      <td>12.7</td>\n",
       "    </tr>\n",
       "    <tr>\n",
       "      <th>...</th>\n",
       "      <td>...</td>\n",
       "      <td>...</td>\n",
       "    </tr>\n",
       "    <tr>\n",
       "      <th>2022-06-30 19:00:00</th>\n",
       "      <td>0.000</td>\n",
       "      <td>13.8</td>\n",
       "    </tr>\n",
       "    <tr>\n",
       "      <th>2022-06-30 20:00:00</th>\n",
       "      <td>0.000</td>\n",
       "      <td>13.7</td>\n",
       "    </tr>\n",
       "    <tr>\n",
       "      <th>2022-06-30 21:00:00</th>\n",
       "      <td>0.000</td>\n",
       "      <td>13.5</td>\n",
       "    </tr>\n",
       "    <tr>\n",
       "      <th>2022-06-30 22:00:00</th>\n",
       "      <td>0.000</td>\n",
       "      <td>13.3</td>\n",
       "    </tr>\n",
       "    <tr>\n",
       "      <th>2022-06-30 23:00:00</th>\n",
       "      <td>0.000</td>\n",
       "      <td>12.8</td>\n",
       "    </tr>\n",
       "  </tbody>\n",
       "</table>\n",
       "<p>4343 rows × 2 columns</p>\n",
       "</div>"
      ],
      "text/plain": [
       "                     Aardgas afname (kWh)  Temperatuur (°C)\n",
       "Datetime                                                   \n",
       "2022-01-01 00:00:00                 0.466              12.9\n",
       "2022-01-01 01:00:00                 2.022              12.9\n",
       "2022-01-01 02:00:00                 0.034              12.9\n",
       "2022-01-01 03:00:00                 2.101              12.7\n",
       "2022-01-01 04:00:00                 1.931              12.7\n",
       "...                                   ...               ...\n",
       "2022-06-30 19:00:00                 0.000              13.8\n",
       "2022-06-30 20:00:00                 0.000              13.7\n",
       "2022-06-30 21:00:00                 0.000              13.5\n",
       "2022-06-30 22:00:00                 0.000              13.3\n",
       "2022-06-30 23:00:00                 0.000              12.8\n",
       "\n",
       "[4343 rows x 2 columns]"
      ]
     },
     "execution_count": 155,
     "metadata": {},
     "output_type": "execute_result"
    }
   ],
   "source": [
    "# Merge 'df_aardgas' and 'df_ODT' into 1 dataframe\n",
    "# Merge left because df_ODT does not have values for all hours\n",
    "df_aardgas_ODT = pd.merge(df_aardgas,df_ODT,on='Datetime',how='left')\n",
    "\n",
    "# Missing values for ODT are interpolated\n",
    "# First row is set equal to second row because interpolation is not possible\n",
    "df_aardgas_ODT = df_aardgas_ODT.interpolate()\n",
    "df_aardgas_ODT.iloc[0,1] = df_aardgas_ODT.iloc[1,1]\n",
    "df_aardgas_ODT"
   ]
  },
  {
   "cell_type": "code",
   "execution_count": 156,
   "id": "9d69a4ae-ffe5-4df3-8215-0ead10cbb4eb",
   "metadata": {},
   "outputs": [
    {
     "data": {
      "text/html": [
       "<div>\n",
       "<style scoped>\n",
       "    .dataframe tbody tr th:only-of-type {\n",
       "        vertical-align: middle;\n",
       "    }\n",
       "\n",
       "    .dataframe tbody tr th {\n",
       "        vertical-align: top;\n",
       "    }\n",
       "\n",
       "    .dataframe thead th {\n",
       "        text-align: right;\n",
       "    }\n",
       "</style>\n",
       "<table border=\"1\" class=\"dataframe\">\n",
       "  <thead>\n",
       "    <tr style=\"text-align: right;\">\n",
       "      <th></th>\n",
       "      <th>Aardgas afname (kWh)</th>\n",
       "      <th>Temperatuur (°C)</th>\n",
       "    </tr>\n",
       "    <tr>\n",
       "      <th>Datetime</th>\n",
       "      <th></th>\n",
       "      <th></th>\n",
       "    </tr>\n",
       "  </thead>\n",
       "  <tbody>\n",
       "    <tr>\n",
       "      <th>2022-01-01</th>\n",
       "      <td>36.948</td>\n",
       "      <td>12.5</td>\n",
       "    </tr>\n",
       "    <tr>\n",
       "      <th>2022-01-02</th>\n",
       "      <td>37.678</td>\n",
       "      <td>12.0</td>\n",
       "    </tr>\n",
       "    <tr>\n",
       "      <th>2022-01-03</th>\n",
       "      <td>41.583</td>\n",
       "      <td>9.7</td>\n",
       "    </tr>\n",
       "    <tr>\n",
       "      <th>2022-01-04</th>\n",
       "      <td>54.591</td>\n",
       "      <td>6.8</td>\n",
       "    </tr>\n",
       "    <tr>\n",
       "      <th>2022-01-05</th>\n",
       "      <td>63.668</td>\n",
       "      <td>3.5</td>\n",
       "    </tr>\n",
       "    <tr>\n",
       "      <th>...</th>\n",
       "      <td>...</td>\n",
       "      <td>...</td>\n",
       "    </tr>\n",
       "    <tr>\n",
       "      <th>2022-06-26</th>\n",
       "      <td>7.641</td>\n",
       "      <td>17.4</td>\n",
       "    </tr>\n",
       "    <tr>\n",
       "      <th>2022-06-27</th>\n",
       "      <td>5.938</td>\n",
       "      <td>16.8</td>\n",
       "    </tr>\n",
       "    <tr>\n",
       "      <th>2022-06-28</th>\n",
       "      <td>6.654</td>\n",
       "      <td>18.3</td>\n",
       "    </tr>\n",
       "    <tr>\n",
       "      <th>2022-06-29</th>\n",
       "      <td>4.849</td>\n",
       "      <td>21.4</td>\n",
       "    </tr>\n",
       "    <tr>\n",
       "      <th>2022-06-30</th>\n",
       "      <td>6.893</td>\n",
       "      <td>17.1</td>\n",
       "    </tr>\n",
       "  </tbody>\n",
       "</table>\n",
       "<p>181 rows × 2 columns</p>\n",
       "</div>"
      ],
      "text/plain": [
       "            Aardgas afname (kWh)  Temperatuur (°C)\n",
       "Datetime                                          \n",
       "2022-01-01                36.948              12.5\n",
       "2022-01-02                37.678              12.0\n",
       "2022-01-03                41.583               9.7\n",
       "2022-01-04                54.591               6.8\n",
       "2022-01-05                63.668               3.5\n",
       "...                          ...               ...\n",
       "2022-06-26                 7.641              17.4\n",
       "2022-06-27                 5.938              16.8\n",
       "2022-06-28                 6.654              18.3\n",
       "2022-06-29                 4.849              21.4\n",
       "2022-06-30                 6.893              17.1\n",
       "\n",
       "[181 rows x 2 columns]"
      ]
     },
     "execution_count": 156,
     "metadata": {},
     "output_type": "execute_result"
    }
   ],
   "source": [
    "# Resample on 1hour (original)\n",
    "df_aardgas_ODT_hourly = df_aardgas_ODT\n",
    "\n",
    "# Resample on daily\n",
    "# Take the sum for 'Aardgas afname' and the average for 'Temperatuur'\n",
    "df_aardgas_ODT_daily = df_aardgas_ODT.resample(rule='D').sum()\n",
    "df_aardgas_ODT_daily['Temperatuur (°C)'] = round(df_aardgas_ODT_daily['Temperatuur (°C)']/24,1)\n",
    "df_aardgas_ODT_daily"
   ]
  },
  {
   "cell_type": "markdown",
   "id": "fc5db6ae-fc02-42ec-a15f-fd2c89ee657a",
   "metadata": {},
   "source": [
    "# Data analysis questions for electric power"
   ]
  },
  {
   "cell_type": "markdown",
   "id": "4ff66cdf-cffe-4821-bd5a-b02d15c2d307",
   "metadata": {},
   "source": [
    "## Show the consumption and injection time profile, on a daily basis"
   ]
  },
  {
   "cell_type": "code",
   "execution_count": 157,
   "id": "b8aa5534-7fbb-47b9-a96f-d7278c1894ab",
   "metadata": {},
   "outputs": [
    {
     "data": {
      "image/png": "[encoded data removed]",
      "text/plain": [
       "<Figure size 1440x360 with 1 Axes>"
      ]
     },
     "metadata": {
      "needs_background": "light"
     },
     "output_type": "display_data"
    }
   ],
   "source": [
    "# Define plot space\n",
    "fig, ax = plt.subplots(figsize = (20,5))\n",
    "\n",
    "# Create bar plot for electric power consumption\n",
    "ax.bar(df_elek_daily.index,\n",
    "       df_elek_daily['Elek afname (kWh)'],\n",
    "      color = 'navy',\n",
    "      edgecolor = 'white',\n",
    "      label = 'Consumption')\n",
    "\n",
    "# Create bar plot for electric power injection\n",
    "ax.bar(df_elek_daily.index,\n",
    "       -df_elek_daily['Elek injectie (kWh)'],\n",
    "      color = 'steelblue',\n",
    "      edgecolor = 'white',\n",
    "      label = 'Injection')\n",
    "\n",
    "# Add title, labels and legend\n",
    "ax.set(title = \"Electric power consumption and injection\",\n",
    "       xlabel = \"Month/Year\", \n",
    "       ylabel = \"kWh/day\")\n",
    "ax.legend();\n",
    "\n",
    "# Customize axes\n",
    "ax.xaxis.set_major_formatter(mdates.DateFormatter('%m/%Y'))\n",
    "ax.autoscale(axis='x',tight=True);\n",
    "\n",
    "plt.show()"
   ]
  },
  {
   "cell_type": "markdown",
   "id": "8d93b8d9-7237-47c3-a4b9-17bd30d0b8f1",
   "metadata": {},
   "source": [
    "## Calculate the total consumption and injection"
   ]
  },
  {
   "cell_type": "code",
   "execution_count": 158,
   "id": "73e51225-412e-4878-89ba-85e4ff31703d",
   "metadata": {},
   "outputs": [
    {
     "data": {
      "text/plain": [
       "Elek afname (kWh)      1758.988\n",
       "Elek injectie (kWh)       0.000\n",
       "dtype: float64"
      ]
     },
     "execution_count": 158,
     "metadata": {},
     "output_type": "execute_result"
    }
   ],
   "source": [
    "df_elek_15min.sum()"
   ]
  },
  {
   "cell_type": "markdown",
   "id": "b2f4042f-7349-462d-8afb-ff7942821695",
   "metadata": {},
   "source": [
    "## Show profile for a specific day"
   ]
  },
  {
   "cell_type": "code",
   "execution_count": 199,
   "id": "a30e759b-2502-4dc5-9386-816a7d34cbdc",
   "metadata": {},
   "outputs": [
    {
     "data": {
      "image/png": "[encoded data removed]",
      "text/plain": [
       "<Figure size 1440x360 with 1 Axes>"
      ]
     },
     "metadata": {
      "needs_background": "light"
     },
     "output_type": "display_data"
    }
   ],
   "source": [
    "df_elek_15min_selected = df_elek_15min[(df_elek_15min.index<='2022-05-10 00:00:00') & (df_elek_15min.index >= '2022-05-09 00:00:00')]\n",
    "\n",
    "# Define plot space\n",
    "fig, ax = plt.subplots(figsize = (20,5))\n",
    "\n",
    "# Create line plot for electric power consumption\n",
    "ax.plot(df_elek_15min_selected['Elek afname (kWh)']/4,\n",
    "        color = 'navy')\n",
    "\n",
    "ax.plot(-df_elek_15min_selected['Elek injectie (kWh)']/4,\n",
    "        color = 'steelblue')\n",
    "\n",
    "# Add title, labels and legend\n",
    "ax.set(title = \"Electric power consumption and injection\",\n",
    "       xlabel = \"Hour of the day\", \n",
    "       ylabel = \"kW\")\n",
    "\n",
    "# Customize axes\n",
    "ax.xaxis.set_major_formatter(mdates.DateFormatter('%H'))\n",
    "ax.autoscale(axis='x',tight=True);\n",
    "\n",
    "plt.show()"
   ]
  },
  {
   "cell_type": "markdown",
   "id": "bfaa4f9f-b4ed-4a47-9bd1-c5bad822676d",
   "metadata": {},
   "source": [
    "## Show the load duration curve, on 15min basis"
   ]
  },
  {
   "cell_type": "code",
   "execution_count": 134,
   "id": "d8f30c1c-5462-4ab2-ad20-e1f8375acd4d",
   "metadata": {},
   "outputs": [
    {
     "data": {
      "text/html": [
       "<div>\n",
       "<style scoped>\n",
       "    .dataframe tbody tr th:only-of-type {\n",
       "        vertical-align: middle;\n",
       "    }\n",
       "\n",
       "    .dataframe tbody tr th {\n",
       "        vertical-align: top;\n",
       "    }\n",
       "\n",
       "    .dataframe thead th {\n",
       "        text-align: right;\n",
       "    }\n",
       "</style>\n",
       "<table border=\"1\" class=\"dataframe\">\n",
       "  <thead>\n",
       "    <tr style=\"text-align: right;\">\n",
       "      <th></th>\n",
       "      <th>Datetime</th>\n",
       "      <th>Elek afname (kWh)</th>\n",
       "    </tr>\n",
       "  </thead>\n",
       "  <tbody>\n",
       "    <tr>\n",
       "      <th>0</th>\n",
       "      <td>2022-05-07 17:45:00</td>\n",
       "      <td>1.127</td>\n",
       "    </tr>\n",
       "    <tr>\n",
       "      <th>1</th>\n",
       "      <td>2022-04-21 18:00:00</td>\n",
       "      <td>1.123</td>\n",
       "    </tr>\n",
       "    <tr>\n",
       "      <th>2</th>\n",
       "      <td>2022-01-17 08:15:00</td>\n",
       "      <td>1.107</td>\n",
       "    </tr>\n",
       "    <tr>\n",
       "      <th>3</th>\n",
       "      <td>2022-04-02 12:45:00</td>\n",
       "      <td>1.083</td>\n",
       "    </tr>\n",
       "    <tr>\n",
       "      <th>4</th>\n",
       "      <td>2022-05-06 18:15:00</td>\n",
       "      <td>1.072</td>\n",
       "    </tr>\n",
       "    <tr>\n",
       "      <th>...</th>\n",
       "      <td>...</td>\n",
       "      <td>...</td>\n",
       "    </tr>\n",
       "    <tr>\n",
       "      <th>17367</th>\n",
       "      <td>2022-06-23 19:45:00</td>\n",
       "      <td>0.011</td>\n",
       "    </tr>\n",
       "    <tr>\n",
       "      <th>17368</th>\n",
       "      <td>2022-06-18 16:45:00</td>\n",
       "      <td>0.011</td>\n",
       "    </tr>\n",
       "    <tr>\n",
       "      <th>17369</th>\n",
       "      <td>2022-06-23 11:45:00</td>\n",
       "      <td>0.010</td>\n",
       "    </tr>\n",
       "    <tr>\n",
       "      <th>17370</th>\n",
       "      <td>2022-06-23 17:45:00</td>\n",
       "      <td>0.010</td>\n",
       "    </tr>\n",
       "    <tr>\n",
       "      <th>17371</th>\n",
       "      <td>2022-01-07 17:00:00</td>\n",
       "      <td>0.009</td>\n",
       "    </tr>\n",
       "  </tbody>\n",
       "</table>\n",
       "<p>17372 rows × 2 columns</p>\n",
       "</div>"
      ],
      "text/plain": [
       "                 Datetime  Elek afname (kWh)\n",
       "0     2022-05-07 17:45:00              1.127\n",
       "1     2022-04-21 18:00:00              1.123\n",
       "2     2022-01-17 08:15:00              1.107\n",
       "3     2022-04-02 12:45:00              1.083\n",
       "4     2022-05-06 18:15:00              1.072\n",
       "...                   ...                ...\n",
       "17367 2022-06-23 19:45:00              0.011\n",
       "17368 2022-06-18 16:45:00              0.011\n",
       "17369 2022-06-23 11:45:00              0.010\n",
       "17370 2022-06-23 17:45:00              0.010\n",
       "17371 2022-01-07 17:00:00              0.009\n",
       "\n",
       "[17372 rows x 2 columns]"
      ]
     },
     "execution_count": 134,
     "metadata": {},
     "output_type": "execute_result"
    }
   ],
   "source": [
    "df_elek_15min_loadcurve = df_elek_15min['Elek afname (kWh)'].sort_values(ascending=False)\n",
    "df_elek_15min_loadcurve = df_elek_15min_loadcurve.reset_index()\n",
    "df_elek_15min_loadcurve"
   ]
  },
  {
   "cell_type": "code",
   "execution_count": 136,
   "id": "657113a5-3eae-4d42-b052-ebd89286f94f",
   "metadata": {},
   "outputs": [
    {
     "data": {
      "image/png": "[encoded data removed]",
      "text/plain": [
       "<Figure size 1440x360 with 1 Axes>"
      ]
     },
     "metadata": {
      "needs_background": "light"
     },
     "output_type": "display_data"
    }
   ],
   "source": [
    "# Define plot space\n",
    "fig, ax = plt.subplots(figsize = (20,5))\n",
    "\n",
    "# Create bar plot for electric power consumption\n",
    "ax.plot(df_elek_15min_loadcurve.index,\n",
    "        df_elek_15min_loadcurve['Elek afname (kWh)']/4,\n",
    "        color = 'navy')\n",
    "\n",
    "# Add title, labels and legend\n",
    "ax.set(title = \"Electric power consumption duration curve\",\n",
    "       xlabel = \"# of 15 minutes\", \n",
    "       ylabel = \"kW\")\n",
    "\n",
    "ax.autoscale(axis='x',tight=True);\n",
    "\n",
    "plt.show()"
   ]
  },
  {
   "cell_type": "markdown",
   "id": "072c274b-c2af-456b-91f3-af4b5e8a57f1",
   "metadata": {},
   "source": [
    "# Data analysis questions for natural gas"
   ]
  },
  {
   "cell_type": "markdown",
   "id": "260e6935-e4b1-481d-8661-801256647d7a",
   "metadata": {},
   "source": [
    "## Show the time profile for natural gas consumption and the outdoor temperature, on a daily basis"
   ]
  },
  {
   "cell_type": "code",
   "execution_count": 196,
   "id": "565ef276-3f30-4a0b-8559-5c87d40e7b99",
   "metadata": {},
   "outputs": [
    {
     "data": {
      "image/png": "[encoded data removed]",
      "text/plain": [
       "<Figure size 1440x360 with 2 Axes>"
      ]
     },
     "metadata": {
      "needs_background": "light"
     },
     "output_type": "display_data"
    }
   ],
   "source": [
    "# Define plot space\n",
    "fig, ax1 = plt.subplots(figsize = (20,5))\n",
    "\n",
    "# Create bar plot for natural gas consumption (primary axis)\n",
    "ax1.bar(df_aardgas_ODT_daily.index,\n",
    "       df_aardgas_ODT_daily['Aardgas afname (kWh)'],\n",
    "      color = 'darkorange',\n",
    "      edgecolor = 'white',\n",
    "      label = 'Consumption')\n",
    "\n",
    "# Create line plot for temperature (secondary axis)\n",
    "ax2 = ax1.twinx()\n",
    "ax2.plot(df_aardgas_ODT_daily['Temperatuur (°C)'],\n",
    "        color = 'darkred',\n",
    "        label = 'Outdoor temperature')\n",
    "\n",
    "# Add title, labels and legend\n",
    "fig.suptitle(\"Natural gas consumption and outdoor temperature\")\n",
    "ax1.set(xlabel = \"Month/Year\",\n",
    "        ylabel = \"kWh/day\")\n",
    "ax2.set(xlabel = \"Month/Year\",\n",
    "        ylabel = \"°C\")\n",
    "fig.legend()\n",
    "\n",
    "# Customize axes\n",
    "ax.xaxis.set_major_formatter(mdates.DateFormatter('%m/%Y'))\n",
    "ax2.autoscale(axis='x',tight=True);\n",
    "\n",
    "plt.show()"
   ]
  },
  {
   "cell_type": "markdown",
   "id": "79aba593-70ac-440a-ba38-f9289e4fd443",
   "metadata": {},
   "source": [
    "## Calculate the total consumption"
   ]
  },
  {
   "cell_type": "code",
   "execution_count": 198,
   "id": "d63dce8a-ba08-4fac-aaeb-909591759c9a",
   "metadata": {},
   "outputs": [
    {
     "data": {
      "text/plain": [
       "6212.971"
      ]
     },
     "execution_count": 198,
     "metadata": {},
     "output_type": "execute_result"
    }
   ],
   "source": [
    "df_aardgas_ODT['Aardgas afname (kWh)'].sum()"
   ]
  },
  {
   "cell_type": "markdown",
   "id": "5c0ed553-7847-4385-b020-b93f41cceb60",
   "metadata": {},
   "source": [
    "## Show profile for a specific day"
   ]
  },
  {
   "cell_type": "code",
   "execution_count": 226,
   "id": "bbee6a3c-b741-4a38-917f-51d04a805028",
   "metadata": {},
   "outputs": [
    {
     "data": {
      "image/png": "[encoded data removed]",
      "text/plain": [
       "<Figure size 1440x360 with 2 Axes>"
      ]
     },
     "metadata": {
      "needs_background": "light"
     },
     "output_type": "display_data"
    }
   ],
   "source": [
    "# Select day as condition\n",
    "df_aardgas_ODT_hourly_selected = df_aardgas_ODT_hourly[(df_aardgas_ODT_hourly.index<='2022-01-10 00:00:00') & (df_aardgas_ODT_hourly.index >= '2022-01-09 00:00:00')]\n",
    "\n",
    "# Define plot space\n",
    "fig, ax1 = plt.subplots(figsize = (20,5))\n",
    "\n",
    "# Create bar plot for natural gas consumption (primary axis)\n",
    "ax1.plot(df_aardgas_ODT_hourly_selected['Aardgas afname (kWh)'],\n",
    "         color = 'darkorange',\n",
    "         label = 'Consumption')\n",
    "\n",
    "# Create line plot for temperature (secondary axis)\n",
    "ax2 = ax1.twinx()\n",
    "ax2.plot(df_aardgas_ODT_hourly_selected['Temperatuur (°C)'],\n",
    "        color = 'darkred',\n",
    "        label = 'Outdoor temperature')\n",
    "\n",
    "# Add title, labels and legend\n",
    "fig.suptitle(\"Natural gas consumption and outdoor temperature\")\n",
    "ax1.set(xlabel = \"Month/Year\",\n",
    "        ylabel = \"kWh/day\")\n",
    "ax2.set(xlabel = \"Month/Year\",\n",
    "        ylabel = \"°C\")\n",
    "fig.legend()\n",
    "\n",
    "# Customize axes\n",
    "ax.xaxis.set_major_formatter(mdates.DateFormatter('%m/%Y'))\n",
    "ax2.autoscale(axis='x',tight=True);\n",
    "\n",
    "plt.show()"
   ]
  },
  {
   "cell_type": "markdown",
   "id": "b8e319b1-1df6-41da-a816-1defd9778b98",
   "metadata": {},
   "source": [
    "## Show the correlation between natural gas consumption and outdoor temperature"
   ]
  },
  {
   "cell_type": "code",
   "execution_count": 224,
   "id": "fe73a6d2-2b38-45f4-b44a-b400f2ba4a14",
   "metadata": {},
   "outputs": [
    {
     "data": {
      "image/png": "[encoded data removed]",
      "text/plain": [
       "<Figure size 360x360 with 1 Axes>"
      ]
     },
     "metadata": {
      "needs_background": "light"
     },
     "output_type": "display_data"
    }
   ],
   "source": [
    "fig = sns.lmplot(\"Temperatuur (°C)\",\"Aardgas afname (kWh)\",df_aardgas_ODT_daily)"
   ]
  },
  {
   "cell_type": "code",
   "execution_count": null,
   "id": "b780091c-d342-4f11-ba1a-fc2e5ffe3db0",
   "metadata": {},
   "outputs": [],
   "source": []
  }
 ],
 "metadata": {
  "kernelspec": {
   "display_name": "Python 3 (ipykernel)",
   "language": "python",
   "name": "python3"
  },
  "language_info": {
   "codemirror_mode": {
    "name": "ipython",
    "version": 3
   },
   "file_extension": ".py",
   "mimetype": "text/x-python",
   "name": "python",
   "nbconvert_exporter": "python",
   "pygments_lexer": "ipython3",
   "version": "3.9.7"
  },
  "toc-autonumbering": true,
  "toc-showcode": false,
  "toc-showmarkdowntxt": false,
  "toc-showtags": false
 },
 "nbformat": 4,
 "nbformat_minor": 5
}
